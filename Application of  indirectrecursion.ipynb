{
 "cells": [
  {
   "cell_type": "code",
   "execution_count": 11,
   "id": "d8959910-b59b-42f7-8fcf-d3b276c098fb",
   "metadata": {},
   "outputs": [
    {
     "name": "stdin",
     "output_type": "stream",
     "text": [
      "enter starting number: 10\n"
     ]
    },
    {
     "name": "stdout",
     "output_type": "stream",
     "text": [
      "\n",
      " Player A's turn.Current number 10\n"
     ]
    },
    {
     "name": "stdin",
     "output_type": "stream",
     "text": [
      "Player A,subtract 1 or 2: 1\n"
     ]
    },
    {
     "name": "stdout",
     "output_type": "stream",
     "text": [
      "\n",
      " Player B's turn.Current number 9\n"
     ]
    },
    {
     "name": "stdin",
     "output_type": "stream",
     "text": [
      "Player B,subtract 1 or 2: 2\n"
     ]
    },
    {
     "name": "stdout",
     "output_type": "stream",
     "text": [
      "\n",
      " Player A's turn.Current number 7\n"
     ]
    },
    {
     "name": "stdin",
     "output_type": "stream",
     "text": [
      "Player A,subtract 1 or 2: 1\n"
     ]
    },
    {
     "name": "stdout",
     "output_type": "stream",
     "text": [
      "\n",
      " Player B's turn.Current number 6\n"
     ]
    },
    {
     "name": "stdin",
     "output_type": "stream",
     "text": [
      "Player B,subtract 1 or 2: 2\n"
     ]
    },
    {
     "name": "stdout",
     "output_type": "stream",
     "text": [
      "\n",
      " Player A's turn.Current number 4\n"
     ]
    },
    {
     "name": "stdin",
     "output_type": "stream",
     "text": [
      "Player A,subtract 1 or 2: 1\n"
     ]
    },
    {
     "name": "stdout",
     "output_type": "stream",
     "text": [
      "\n",
      " Player B's turn.Current number 3\n"
     ]
    },
    {
     "name": "stdin",
     "output_type": "stream",
     "text": [
      "Player B,subtract 1 or 2: 1\n"
     ]
    },
    {
     "name": "stdout",
     "output_type": "stream",
     "text": [
      "\n",
      " Player A's turn.Current number 2\n"
     ]
    },
    {
     "name": "stdin",
     "output_type": "stream",
     "text": [
      "Player A,subtract 1 or 2: 2\n"
     ]
    },
    {
     "name": "stdout",
     "output_type": "stream",
     "text": [
      "Player B reached 0!!Player B loses  \n"
     ]
    }
   ],
   "source": [
    "def player_A(n):\n",
    "    if n<=0:\n",
    "        print(\"Player A reached 0!!Player A loses  \")\n",
    "        return\n",
    "    print(f\"\\n Player A's turn.Current number {n}\")\n",
    "    move=int(input(\"Player A,subtract 1 or 2:\"))\n",
    "    while move not in [1,2]:\n",
    "        move=int(input(\"Player A,subtract 1 or 2:\")) \n",
    "    player_B(n-move)\n",
    "def player_B(n):\n",
    "    if n<=0:\n",
    "        print(\"Player B reached 0!!Player B loses  \")\n",
    "        return\n",
    "    print(f\"\\n Player B's turn.Current number {n}\")\n",
    "    move=int(input(\"Player B,subtract 1 or 2:\"))\n",
    "    while move not in [1,2]:\n",
    "        move=int(input(\"Player B,subtract 1 or 2:\"))\n",
    "    player_A(n-move)\n",
    "start=int(input(\"enter starting number:\"))     \n",
    "player_A(start)"
   ]
  },
  {
   "cell_type": "code",
   "execution_count": null,
   "id": "81650a57-aeda-4fb2-844d-7de7bf40e182",
   "metadata": {},
   "outputs": [],
   "source": []
  }
 ],
 "metadata": {
  "kernelspec": {
   "display_name": "Python 3 (ipykernel)",
   "language": "python",
   "name": "python3"
  },
  "language_info": {
   "codemirror_mode": {
    "name": "ipython",
    "version": 3
   },
   "file_extension": ".py",
   "mimetype": "text/x-python",
   "name": "python",
   "nbconvert_exporter": "python",
   "pygments_lexer": "ipython3",
   "version": "3.12.7"
  }
 },
 "nbformat": 4,
 "nbformat_minor": 5
}
