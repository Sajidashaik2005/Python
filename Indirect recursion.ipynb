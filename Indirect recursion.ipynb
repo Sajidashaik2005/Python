{
 "cells": [
  {
   "cell_type": "code",
   "execution_count": 1,
   "id": "46a34dc7-83e3-46fe-a88b-da00e08c1b81",
   "metadata": {},
   "outputs": [
    {
     "name": "stdin",
     "output_type": "stream",
     "text": [
      "enter a 4 digit number: 1234\n"
     ]
    },
    {
     "name": "stdout",
     "output_type": "stream",
     "text": [
      "sum of digits: 10\n"
     ]
    }
   ],
   "source": [
    "#sum of digits in number using indirect recursion\n",
    "def dsum(n):\n",
    "    if n==0:\n",
    "        return 0\n",
    "    return n%10+temp(n//10)\n",
    "def temp(n):\n",
    "    return dsum(n)\n",
    "num=int(input(\"enter a 4 digit number:\"))\n",
    "print(\"sum of digits:\",dsum(num))"
   ]
  },
  {
   "cell_type": "code",
   "execution_count": 7,
   "id": "1556ea0a-db9f-4265-aaa0-5b7526355efc",
   "metadata": {},
   "outputs": [
    {
     "name": "stdin",
     "output_type": "stream",
     "text": [
      "enter a number: 5\n"
     ]
    },
    {
     "name": "stdout",
     "output_type": "stream",
     "text": [
      "5 is odd\n"
     ]
    }
   ],
   "source": [
    "#even and odd without uing modulus\n",
    "def one(n):\n",
    "    if n==0:\n",
    "        return True\n",
    "    else:\n",
    "        return two(n-1)\n",
    "def two(n):\n",
    "    if n==0:\n",
    "        return False\n",
    "    else:\n",
    "        return one(n-1)\n",
    "num=int(input(\"enter a number:\"))\n",
    "if one(num):\n",
    "    print(num,\"is even\")\n",
    "else:\n",
    "    print(num,\"is odd\")\n"
   ]
  },
  {
   "cell_type": "code",
   "execution_count": 15,
   "id": "ab12ec6c-f44f-468a-9969-bc0e8d2a2ef6",
   "metadata": {},
   "outputs": [
    {
     "name": "stdin",
     "output_type": "stream",
     "text": [
      "enter a number: 5\n"
     ]
    },
    {
     "name": "stdout",
     "output_type": "stream",
     "text": [
      "bob 5\n",
      "alice 4\n",
      "bob 3\n",
      "alice 2\n",
      "bob 1\n"
     ]
    }
   ],
   "source": [
    "#number of times the recursion is called\n",
    "def A(n):\n",
    "    if n<=0:\n",
    "        return\n",
    "    print(\"bob\",n)\n",
    "    B(n-1)\n",
    "def B(n):\n",
    "    if n<=0:\n",
    "        return\n",
    "    print(\"alice\",n)\n",
    "    A(n-1)\n",
    "num=int(input(\"enter a number:\"))\n",
    "A(num)\n"
   ]
  },
  {
   "cell_type": "code",
   "execution_count": null,
   "id": "8ba65bd3-b712-48b8-824d-76cfb2004e45",
   "metadata": {},
   "outputs": [],
   "source": [
    "\n"
   ]
  }
 ],
 "metadata": {
  "kernelspec": {
   "display_name": "Python 3 (ipykernel)",
   "language": "python",
   "name": "python3"
  },
  "language_info": {
   "codemirror_mode": {
    "name": "ipython",
    "version": 3
   },
   "file_extension": ".py",
   "mimetype": "text/x-python",
   "name": "python",
   "nbconvert_exporter": "python",
   "pygments_lexer": "ipython3",
   "version": "3.12.7"
  }
 },
 "nbformat": 4,
 "nbformat_minor": 5
}
