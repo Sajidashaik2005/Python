{
 "cells": [
  {
   "cell_type": "code",
   "execution_count": 9,
   "id": "89c0796c-1012-4795-b696-1b8ba79e1bd1",
   "metadata": {},
   "outputs": [
    {
     "name": "stdin",
     "output_type": "stream",
     "text": [
      "enter filename with extension char.txt\n",
      "enter a char to search frequency s\n"
     ]
    },
    {
     "name": "stdout",
     "output_type": "stream",
     "text": [
      "s appears 4 times in the file\n"
     ]
    }
   ],
   "source": [
    "''' write a code that accepts filename as input from the user \n",
    "open the file and count number of times the letter given by the user\n",
    "appears in the file\n",
    "input:s\n",
    "output:4\n",
    "filedata:mississippi'''\n",
    "\n",
    "filename=input(\"enter filename with extension\")\n",
    "with open(filename,'r') as file:\n",
    "    text=file.read()\n",
    "    letter=input(\"enter a char to search frequency\")\n",
    "    count=0\n",
    "    for char in text:\n",
    "        if char==letter:\n",
    "            count+=1\n",
    "print(letter,\"appears\",count,\"times in the file\")\n",
    "    \n"
   ]
  },
  {
   "cell_type": "code",
   "execution_count": null,
   "id": "74ad48db-8ce0-4089-9e05-cf0063a12338",
   "metadata": {},
   "outputs": [],
   "source": []
  }
 ],
 "metadata": {
  "kernelspec": {
   "display_name": "Python 3 (ipykernel)",
   "language": "python",
   "name": "python3"
  },
  "language_info": {
   "codemirror_mode": {
    "name": "ipython",
    "version": 3
   },
   "file_extension": ".py",
   "mimetype": "text/x-python",
   "name": "python",
   "nbconvert_exporter": "python",
   "pygments_lexer": "ipython3",
   "version": "3.12.7"
  }
 },
 "nbformat": 4,
 "nbformat_minor": 5
}
