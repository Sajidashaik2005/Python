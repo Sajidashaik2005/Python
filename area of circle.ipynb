{
 "cells": [
  {
   "cell_type": "code",
   "execution_count": 1,
   "id": "13114f1b-eb11-4ca4-8398-9d1da61c89d3",
   "metadata": {},
   "outputs": [
    {
     "name": "stdin",
     "output_type": "stream",
     "text": [
      "enter radius: 7.5\n"
     ]
    },
    {
     "name": "stdout",
     "output_type": "stream",
     "text": [
      "area of circle: 176.7144375\n",
      "circumference of a circle: 47.12385\n"
     ]
    }
   ],
   "source": [
    "'''write a code to calculate the area and circumference of \n",
    "a circle by taking manual radius and assigning pi value with\n",
    "3.14159 and r=7.5'''\n",
    "r=float(input(\"enter radius:\"))\n",
    "pi=3.14159\n",
    "a=pi*(r**2)\n",
    "c=2*pi*r\n",
    "print(\"area of circle:\",a)\n",
    "print(\"circumference of a circle:\",c)"
   ]
  },
  {
   "cell_type": "code",
   "execution_count": 3,
   "id": "39520f5c-8aff-4d34-b178-883fb9257819",
   "metadata": {},
   "outputs": [
    {
     "name": "stdin",
     "output_type": "stream",
     "text": [
      "enter radius: 7.5\n"
     ]
    },
    {
     "name": "stdout",
     "output_type": "stream",
     "text": [
      "area of circle: 176.7144375\n",
      "circumference of a circle: 47.12385\n"
     ]
    }
   ],
   "source": [
    "#another method \n",
    "import math   #or from math import pi\n",
    "r=float(input(\"enter radius:\"))\n",
    "a=pi*(r**2)\n",
    "c=2*pi*r\n",
    "print(\"area of circle:\",a)\n",
    "print(\"circumference of a circle:\",c)"
   ]
  },
  {
   "cell_type": "code",
   "execution_count": null,
   "id": "cb7b7c1e-45ee-4c89-b826-2dc1dc08fff5",
   "metadata": {},
   "outputs": [],
   "source": []
  }
 ],
 "metadata": {
  "kernelspec": {
   "display_name": "Python 3 (ipykernel)",
   "language": "python",
   "name": "python3"
  },
  "language_info": {
   "codemirror_mode": {
    "name": "ipython",
    "version": 3
   },
   "file_extension": ".py",
   "mimetype": "text/x-python",
   "name": "python",
   "nbconvert_exporter": "python",
   "pygments_lexer": "ipython3",
   "version": "3.12.7"
  }
 },
 "nbformat": 4,
 "nbformat_minor": 5
}
