{
 "cells": [
  {
   "cell_type": "code",
   "execution_count": 7,
   "id": "8f080db0-228d-4bfb-884f-2a4ee5522ac8",
   "metadata": {},
   "outputs": [
    {
     "name": "stdin",
     "output_type": "stream",
     "text": [
      "enter length of string: 3\n"
     ]
    },
    {
     "name": "stdout",
     "output_type": "stream",
     "text": [
      "binary combinations.....\n",
      " 000\n",
      " 001\n",
      " 010\n",
      " 011\n",
      " 100\n",
      " 101\n",
      " 110\n",
      " 111\n"
     ]
    }
   ],
   "source": [
    "#binary combinations \n",
    "def binary(n,b=' '):\n",
    "    if n==0:\n",
    "        print(b)\n",
    "        return\n",
    "    binary(n-1,b+'0')\n",
    "    binary(n-1,b+'1')\n",
    "    \n",
    "length=int(input(\"enter length of string:\"))\n",
    "print(\"binary combinations.....\")\n",
    "binary(length)\n"
   ]
  },
  {
   "cell_type": "code",
   "execution_count": null,
   "id": "231f40b6-77e9-4570-acac-085cce8a4b47",
   "metadata": {},
   "outputs": [],
   "source": []
  }
 ],
 "metadata": {
  "kernelspec": {
   "display_name": "Python 3 (ipykernel)",
   "language": "python",
   "name": "python3"
  },
  "language_info": {
   "codemirror_mode": {
    "name": "ipython",
    "version": 3
   },
   "file_extension": ".py",
   "mimetype": "text/x-python",
   "name": "python",
   "nbconvert_exporter": "python",
   "pygments_lexer": "ipython3",
   "version": "3.12.7"
  }
 },
 "nbformat": 4,
 "nbformat_minor": 5
}
