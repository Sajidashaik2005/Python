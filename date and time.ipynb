{
 "cells": [
  {
   "cell_type": "code",
   "execution_count": 1,
   "id": "a0efd7c4-7db1-4faa-8837-089f7f7f1582",
   "metadata": {},
   "outputs": [
    {
     "name": "stdout",
     "output_type": "stream",
     "text": [
      "current time: 2025-07-19 13:26:35.769046\n",
      " date: 2025-07-19\n",
      "time: 13:26:35.769046\n"
     ]
    }
   ],
   "source": [
    "#date and time epoch time\n",
    "from datetime import datetime\n",
    "now=datetime.now()\n",
    "print(\"current time:\",now)\n",
    "print(\" date:\",now.date())\n",
    "print(\"time:\",now.time())\n"
   ]
  },
  {
   "cell_type": "code",
   "execution_count": null,
   "id": "9677d9db-45dd-4b09-af39-72e5cd5c6021",
   "metadata": {},
   "outputs": [],
   "source": []
  }
 ],
 "metadata": {
  "kernelspec": {
   "display_name": "Python 3 (ipykernel)",
   "language": "python",
   "name": "python3"
  },
  "language_info": {
   "codemirror_mode": {
    "name": "ipython",
    "version": 3
   },
   "file_extension": ".py",
   "mimetype": "text/x-python",
   "name": "python",
   "nbconvert_exporter": "python",
   "pygments_lexer": "ipython3",
   "version": "3.12.7"
  }
 },
 "nbformat": 4,
 "nbformat_minor": 5
}
