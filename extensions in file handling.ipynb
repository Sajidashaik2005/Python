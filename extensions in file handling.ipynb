{
 "cells": [
  {
   "cell_type": "code",
   "execution_count": 7,
   "id": "17448ecd-66fb-463a-a9f9-b263672cee34",
   "metadata": {},
   "outputs": [
    {
     "name": "stdout",
     "output_type": "stream",
     "text": [
      "latest data:\n",
      "My name is shaik sajida.\n",
      "\n"
     ]
    },
    {
     "name": "stdin",
     "output_type": "stream",
     "text": [
      "\n",
      "enter text to overwrite from beining... I am from vijayawada\n"
     ]
    },
    {
     "name": "stdout",
     "output_type": "stream",
     "text": [
      "\n",
      " file after writing by r+\n",
      "I am from vijayawadaida.\n",
      "\n"
     ]
    }
   ],
   "source": [
    "#   \"r+\"\n",
    "filename='s1.txt'\n",
    "with open(filename,'w') as f:\n",
    "    f.write(\"My name is shaik sajida.\\n\")\n",
    "with open(filename,'r+') as file:\n",
    "    print(\"latest data:\")\n",
    "    print(file.read())\n",
    "    file.seek(0)\n",
    "    userinput=input(\"\\nenter text to overwrite from beining...\")\n",
    "    file.write(userinput)\n",
    "    file.seek(0)\n",
    "    print(\"\\n file after writing by r+\")\n",
    "    print(file.read())"
   ]
  },
  {
   "cell_type": "code",
   "execution_count": 13,
   "id": "c0068fb0-0ef3-4be1-96e3-9030b57317da",
   "metadata": {},
   "outputs": [
    {
     "name": "stdin",
     "output_type": "stream",
     "text": [
      "enter any data..... good afternoon\n"
     ]
    },
    {
     "name": "stdout",
     "output_type": "stream",
     "text": [
      "\n",
      " latst file content\n",
      "good afternoon\n"
     ]
    }
   ],
   "source": [
    "#      \"w+\"\n",
    "with open('s2.txt','w+') as file:\n",
    "    text=input(\"enter any data.....\")\n",
    "    file.write(text)\n",
    "    file.seek(0)\n",
    "    print(\"\\n latst file content\")\n",
    "    print(file.read())"
   ]
  },
  {
   "cell_type": "code",
   "execution_count": 27,
   "id": "271f51b3-f85a-46ad-b5bf-b0b948a4a552",
   "metadata": {},
   "outputs": [
    {
     "name": "stdin",
     "output_type": "stream",
     "text": [
      " enter  a line to append data students\n"
     ]
    },
    {
     "name": "stdout",
     "output_type": "stream",
     "text": [
      "\n",
      " current content in the file\n",
      "good afternoonstudents\n",
      "\n"
     ]
    }
   ],
   "source": [
    "#      \"a+\"\n",
    "with open('s2.txt','a+') as file:\n",
    "    text=input(\" enter  a line to append data\")\n",
    "    file.write(text+'\\n')\n",
    "    file.seek(0)   \n",
    "    print(\"\\n current content in the file\")\n",
    "    print(file.read())"
   ]
  },
  {
   "cell_type": "code",
   "execution_count": null,
   "id": "87e04769-2e82-427b-8887-ded57df5931b",
   "metadata": {},
   "outputs": [],
   "source": []
  }
 ],
 "metadata": {
  "kernelspec": {
   "display_name": "Python 3 (ipykernel)",
   "language": "python",
   "name": "python3"
  },
  "language_info": {
   "codemirror_mode": {
    "name": "ipython",
    "version": 3
   },
   "file_extension": ".py",
   "mimetype": "text/x-python",
   "name": "python",
   "nbconvert_exporter": "python",
   "pygments_lexer": "ipython3",
   "version": "3.12.7"
  }
 },
 "nbformat": 4,
 "nbformat_minor": 5
}
