{
 "cells": [
  {
   "cell_type": "code",
   "execution_count": 1,
   "id": "49be254e-0a6f-4e33-95e6-47d59e62e08f",
   "metadata": {},
   "outputs": [
    {
     "name": "stdin",
     "output_type": "stream",
     "text": [
      "Enter a number: 4\n"
     ]
    },
    {
     "name": "stdout",
     "output_type": "stream",
     "text": [
      "Factorial of 4 is 24\n"
     ]
    }
   ],
   "source": [
    " fact=1\n",
    "def factorial(n):\n",
    "    global fact \n",
    "    fact=1\n",
    "    for i in range(1,n+1):\n",
    "        fact*=i\n",
    "    return fact\n",
    "num=int(input(\"Enter a number:\"))\n",
    "if num<0:\n",
    "    print(\"cannot derive factorial for negative numbers\")\n",
    "else:\n",
    "    factorial(num)\n",
    "    print(f\"Factorial of {num} is\",fact) \n",
    "    "
   ]
  },
  {
   "cell_type": "code",
   "execution_count": null,
   "id": "e2186b36-c85a-407c-9e63-12d70e2c9084",
   "metadata": {},
   "outputs": [],
   "source": []
  }
 ],
 "metadata": {
  "kernelspec": {
   "display_name": "Python 3 (ipykernel)",
   "language": "python",
   "name": "python3"
  },
  "language_info": {
   "codemirror_mode": {
    "name": "ipython",
    "version": 3
   },
   "file_extension": ".py",
   "mimetype": "text/x-python",
   "name": "python",
   "nbconvert_exporter": "python",
   "pygments_lexer": "ipython3",
   "version": "3.12.7"
  }
 },
 "nbformat": 4,
 "nbformat_minor": 5
}
