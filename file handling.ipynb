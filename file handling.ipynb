{
 "cells": [
  {
   "cell_type": "code",
   "execution_count": 1,
   "id": "eb0f8b4c-a4ec-4dc2-b79e-f2159e0698e3",
   "metadata": {},
   "outputs": [
    {
     "name": "stdout",
     "output_type": "stream",
     "text": [
      "File data in sample.txt: Hello Student\n"
     ]
    }
   ],
   "source": [
    "#read a file\n",
    "file=open('sample2.txt','r')\n",
    "data=file.read()\n",
    "print(\"File data in sample.txt:\",data)\n",
    "file.close()"
   ]
  },
  {
   "cell_type": "code",
   "execution_count": 5,
   "id": "fe22d051-a8b6-481a-8428-45d25f6e1235",
   "metadata": {},
   "outputs": [],
   "source": [
    "#write a file\n",
    "f=open('sample1.txt','w')\n",
    "f.write(\"hello there\")\n",
    "f.close()\n"
   ]
  },
  {
   "cell_type": "code",
   "execution_count": 19,
   "id": "88c88a27-6d5b-4da5-b16f-4c6e853b842e",
   "metadata": {},
   "outputs": [],
   "source": [
    "#write a file\n",
    "f=open('sample3.txt','w')\n",
    "f.write(\"what are you doing\")\n",
    "f.close()\n"
   ]
  },
  {
   "cell_type": "code",
   "execution_count": 31,
   "id": "8e5bff13-72dc-47ca-895b-972c12edae26",
   "metadata": {},
   "outputs": [],
   "source": [
    "#append a file\n",
    "f=open('sample3.txt','a')\n",
    "f.write(\" my friend\")\n",
    "f.close()\n"
   ]
  },
  {
   "cell_type": "code",
   "execution_count": 33,
   "id": "6471b5ab-3c65-4b8e-9606-9b2bbe3b26dd",
   "metadata": {},
   "outputs": [],
   "source": [
    "#using with - as keyword\n",
    "with open('root.txt','w') as ss:\n",
    "    ss.write(\"my name is sunny....\")\n",
    "    "
   ]
  },
  {
   "cell_type": "code",
   "execution_count": 41,
   "id": "10fb4cb9-9db4-422a-b6b6-74a42b6ecded",
   "metadata": {},
   "outputs": [
    {
     "name": "stdout",
     "output_type": "stream",
     "text": [
      "Twinkle, twinkle, little star!\n",
      "\n",
      " How I wonder what you are, Up above the world so high, Like a diamond in the sky. Twinkle, twinkle all the night. \n",
      "\n",
      "In the dark-blue sky you keep, And often through my curtains peep, For you never shut your eye, Till the sun is in the sky.\n",
      "\n"
     ]
    }
   ],
   "source": [
    "#readline\n",
    "file=open('ss1.txt','r')\n",
    "print(file.readline())\n",
    "print(file.readline())\n",
    "print(file.readline())\n",
    "print(file.readline())\n"
   ]
  },
  {
   "cell_type": "code",
   "execution_count": null,
   "id": "4fda166d-5930-4cd1-9a17-ddd4743770b1",
   "metadata": {},
   "outputs": [],
   "source": []
  }
 ],
 "metadata": {
  "kernelspec": {
   "display_name": "Python 3 (ipykernel)",
   "language": "python",
   "name": "python3"
  },
  "language_info": {
   "codemirror_mode": {
    "name": "ipython",
    "version": 3
   },
   "file_extension": ".py",
   "mimetype": "text/x-python",
   "name": "python",
   "nbconvert_exporter": "python",
   "pygments_lexer": "ipython3",
   "version": "3.12.7"
  }
 },
 "nbformat": 4,
 "nbformat_minor": 5
}
