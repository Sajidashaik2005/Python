{
 "cells": [
  {
   "cell_type": "code",
   "execution_count": 3,
   "id": "bb5cfe87-c473-495d-94f3-f1f00d659d70",
   "metadata": {},
   "outputs": [
    {
     "name": "stdout",
     "output_type": "stream",
     "text": [
      "this is a outer function\n",
      "this is a inner function\n"
     ]
    }
   ],
   "source": [
    "def outer():\n",
    "    print(\"this is a outer function\")\n",
    "    def inner():\n",
    "        print(\"this is a inner function\")\n",
    "    inner()\n",
    "outer()    \n"
   ]
  },
  {
   "cell_type": "code",
   "execution_count": null,
   "id": "0f5ab602-85d3-4ee0-a4ca-e0e846d47dfd",
   "metadata": {},
   "outputs": [],
   "source": []
  }
 ],
 "metadata": {
  "kernelspec": {
   "display_name": "Python 3 (ipykernel)",
   "language": "python",
   "name": "python3"
  },
  "language_info": {
   "codemirror_mode": {
    "name": "ipython",
    "version": 3
   },
   "file_extension": ".py",
   "mimetype": "text/x-python",
   "name": "python",
   "nbconvert_exporter": "python",
   "pygments_lexer": "ipython3",
   "version": "3.12.7"
  }
 },
 "nbformat": 4,
 "nbformat_minor": 5
}
