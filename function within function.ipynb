{
 "cells": [
  {
   "cell_type": "code",
   "execution_count": 3,
   "id": "5a4999bc-1c73-472e-b916-1c307240887e",
   "metadata": {},
   "outputs": [
    {
     "name": "stdin",
     "output_type": "stream",
     "text": [
      "enter a number: 3\n",
      "enter b number: 2\n"
     ]
    },
    {
     "name": "stdout",
     "output_type": "stream",
     "text": [
      "addition: 5\n",
      "subtraction: 1\n",
      "product: 6\n"
     ]
    }
   ],
   "source": [
    "def cal(a,b):\n",
    "    def add():\n",
    "        return a+b\n",
    "    def sub():\n",
    "        return a-b\n",
    "    def mul():\n",
    "        return a*b\n",
    "    print(\"addition:\",add())\n",
    "    print(\"subtraction:\",sub())\n",
    "    print(\"product:\",mul())\n",
    "a=int(input(\"enter a number:\"))\n",
    "b=int(input(\"enter b number:\"))\n",
    "cal(a,b)\n"
   ]
  },
  {
   "cell_type": "code",
   "execution_count": 13,
   "id": "04507b6a-e9db-4b47-acda-0c75f2e80285",
   "metadata": {},
   "outputs": [
    {
     "name": "stdout",
     "output_type": "stream",
     "text": [
      "10\n",
      "30\n"
     ]
    }
   ],
   "source": [
    "def mul_by(n):\n",
    "    def inner(x):\n",
    "        return x*n\n",
    "    return inner    \n",
    "times_2=mul_by(2)\n",
    "times_3=mul_by(3)\n",
    "print(times_2(5))\n",
    "print(times_3(10))\n"
   ]
  },
  {
   "cell_type": "code",
   "execution_count": 15,
   "id": "c58f156a-49bb-4c94-b6e6-76ceab5ff34e",
   "metadata": {},
   "outputs": [
    {
     "name": "stdout",
     "output_type": "stream",
     "text": [
      "hello sajida!!!!\n"
     ]
    }
   ],
   "source": [
    "def greet(text):\n",
    "    def inner(name):\n",
    "        return f\"{text} {name}!!!!\"\n",
    "    return inner\n",
    "hi=greet('hello')\n",
    "print(hi('sajida'))"
   ]
  },
  {
   "cell_type": "code",
   "execution_count": 19,
   "id": "eaf47df6-88e6-418a-9bd1-1acb4f09bc1a",
   "metadata": {},
   "outputs": [
    {
     "name": "stdout",
     "output_type": "stream",
     "text": [
      "Hello Mr. Sunny\n",
      "Hello Dr. Bunny\n"
     ]
    }
   ],
   "source": [
    "def titled(title):\n",
    "    def greet(name):\n",
    "        return f\"Hello {title} {name}\"\n",
    "    return greet    \n",
    "mr_greet=titled(\"Mr.\")\n",
    "dr_greet=titled(\"Dr.\")\n",
    "print(mr_greet(\"Sunny\"))\n",
    "print(dr_greet(\"Bunny\"))"
   ]
  },
  {
   "cell_type": "code",
   "execution_count": 25,
   "id": "849e667b-dad6-48cd-abb9-d921c81d91e9",
   "metadata": {},
   "outputs": [
    {
     "name": "stdout",
     "output_type": "stream",
     "text": [
      "x= 22\n",
      "locally 32\n",
      "x= 100\n",
      "latest value of y globally: 25\n",
      "globally 125\n"
     ]
    }
   ],
   "source": [
    "x=100\n",
    "y=10\n",
    "def display():\n",
    "    x=22\n",
    "    print(\"x=\",x)\n",
    "    print(\"locally\",x+y)\n",
    "display()\n",
    "print(\"x=\",x)\n",
    "y=10\n",
    "y=25\n",
    "print(\"latest value of y globally:\",y)\n",
    "print(\"globally\",x+y)\n",
    "\n",
    "    "
   ]
  },
  {
   "cell_type": "code",
   "execution_count": 31,
   "id": "6642c4d6-cf5f-441f-bd81-7375f0f912ad",
   "metadata": {},
   "outputs": [
    {
     "name": "stdin",
     "output_type": "stream",
     "text": [
      "enter marks of a subject 90\n"
     ]
    },
    {
     "name": "stdout",
     "output_type": "stream",
     "text": [
      "subject1 marks: 90\n"
     ]
    },
    {
     "name": "stdin",
     "output_type": "stream",
     "text": [
      "enter marks of a subject 77\n"
     ]
    },
    {
     "name": "stdout",
     "output_type": "stream",
     "text": [
      "subject2 marks: 77\n"
     ]
    },
    {
     "name": "stdin",
     "output_type": "stream",
     "text": [
      "enter marks of a subject 89\n"
     ]
    },
    {
     "name": "stdout",
     "output_type": "stream",
     "text": [
      "subject3 marks: 89\n",
      "total marks stored in global: 256\n"
     ]
    }
   ],
   "source": [
    "total=0\n",
    "def add_subject_marks():\n",
    "    global total\n",
    "    marks=int(input(\"enter marks of a subject\"))\n",
    "    total+=marks\n",
    "    return marks\n",
    "print(\"subject1 marks:\",add_subject_marks())\n",
    "print(\"subject2 marks:\",add_subject_marks())\n",
    "print(\"subject3 marks:\",add_subject_marks())\n",
    "print(\"total marks stored in global:\",total)"
   ]
  },
  {
   "cell_type": "code",
   "execution_count": 39,
   "id": "fb35efe7-40be-4225-9f08-ac1eb39ca406",
   "metadata": {},
   "outputs": [
    {
     "name": "stdin",
     "output_type": "stream",
     "text": [
      "enter marks of a subject: 5\n"
     ]
    },
    {
     "name": "stdout",
     "output_type": "stream",
     "text": [
      "subjet 1 marks: 5\n"
     ]
    },
    {
     "name": "stdin",
     "output_type": "stream",
     "text": [
      "enter marks of a subject: 5\n"
     ]
    },
    {
     "name": "stdout",
     "output_type": "stream",
     "text": [
      "subjet 2 marks: 5\n"
     ]
    },
    {
     "name": "stdin",
     "output_type": "stream",
     "text": [
      "enter marks of a subject: 5\n"
     ]
    },
    {
     "name": "stdout",
     "output_type": "stream",
     "text": [
      "subjet 3 marks: 5\n",
      "all subject marks [5, 5, 5]\n",
      "total marks 15\n",
      "average 5.0\n"
     ]
    }
   ],
   "source": [
    "'''functions using list and manipulating local variables in the global '''\n",
    "subject_marks=[]\n",
    "def add_subject_marks():\n",
    "    mark=int(input(\"enter marks of a subject:\"))\n",
    "    subject_marks.append(mark)\n",
    "    return mark\n",
    "print(\"subjet 1 marks:\",add_subject_marks())\n",
    "print(\"subjet 2 marks:\",add_subject_marks())\n",
    "print(\"subjet 3 marks:\",add_subject_marks())\n",
    "print(\"all subject marks\",subject_marks)\n",
    "print(\"total marks\",sum(subject_marks))\n",
    "print(\"average\",sum(subject_marks)/len(subject_marks))"
   ]
  },
  {
   "cell_type": "markdown",
   "id": "da9bc03f-c90c-40fd-b7b7-b2177ce8f43e",
   "metadata": {},
   "source": []
  }
 ],
 "metadata": {
  "kernelspec": {
   "display_name": "Python 3 (ipykernel)",
   "language": "python",
   "name": "python3"
  },
  "language_info": {
   "codemirror_mode": {
    "name": "ipython",
    "version": 3
   },
   "file_extension": ".py",
   "mimetype": "text/x-python",
   "name": "python",
   "nbconvert_exporter": "python",
   "pygments_lexer": "ipython3",
   "version": "3.12.7"
  }
 },
 "nbformat": 4,
 "nbformat_minor": 5
}
