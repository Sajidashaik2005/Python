{
 "cells": [
  {
   "cell_type": "code",
   "execution_count": 1,
   "id": "61912809-6fd6-4101-aa63-affc4308ca74",
   "metadata": {},
   "outputs": [
    {
     "name": "stdin",
     "output_type": "stream",
     "text": [
      "enter a number: 5\n"
     ]
    },
    {
     "name": "stdout",
     "output_type": "stream",
     "text": [
      "1\n",
      "2\n",
      "3\n",
      "4\n",
      "5\n"
     ]
    }
   ],
   "source": [
    "#head recursion\n",
    "def head(n):\n",
    "    if n==0:\n",
    "        return \n",
    "    head(n-1)\n",
    "    print(n)\n",
    "num=int(input(\"enter a number:\"))\n",
    "head(num)"
   ]
  },
  {
   "cell_type": "code",
   "execution_count": null,
   "id": "0ceec308-d5f8-4bb9-9d2f-c7dc25ae9489",
   "metadata": {},
   "outputs": [],
   "source": []
  }
 ],
 "metadata": {
  "kernelspec": {
   "display_name": "Python 3 (ipykernel)",
   "language": "python",
   "name": "python3"
  },
  "language_info": {
   "codemirror_mode": {
    "name": "ipython",
    "version": 3
   },
   "file_extension": ".py",
   "mimetype": "text/x-python",
   "name": "python",
   "nbconvert_exporter": "python",
   "pygments_lexer": "ipython3",
   "version": "3.12.7"
  }
 },
 "nbformat": 4,
 "nbformat_minor": 5
}
