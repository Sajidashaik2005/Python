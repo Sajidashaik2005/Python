{
 "cells": [
  {
   "cell_type": "code",
   "execution_count": 9,
   "id": "de9947b2-f3b2-4ab8-a01f-8dd15e087d28",
   "metadata": {},
   "outputs": [
    {
     "name": "stdout",
     "output_type": "stream",
     "text": [
      "name:sunny\n",
      "age:20\n",
      "cgpa:8.3\n"
     ]
    }
   ],
   "source": [
    "#keyword args\n",
    "def info(**kwargs):\n",
    "    for key,value in kwargs.items():\n",
    "        print(f\"{key}:{value}\")\n",
    "info(name='sunny',age=20,cgpa=8.3)        "
   ]
  },
  {
   "cell_type": "code",
   "execution_count": 13,
   "id": "a71bce94-c3cc-4f35-8aef-e9b7e354e8d0",
   "metadata": {},
   "outputs": [
    {
     "name": "stdout",
     "output_type": "stream",
     "text": [
      "Name:sunny\n"
     ]
    }
   ],
   "source": [
    "#accessing only one item by using keyword args\n",
    "def info(**kwargs):\n",
    "    for key,value in kwargs.items():\n",
    "        name=kwargs[\"name\"]\n",
    "    print(f\"Name:{name}\")\n",
    "info(name='sunny',age=20,cgpa=8.3)        \n"
   ]
  },
  {
   "cell_type": "code",
   "execution_count": 17,
   "id": "a907da6f-30d5-4db7-a752-f053e54dd7f1",
   "metadata": {},
   "outputs": [
    {
     "name": "stdout",
     "output_type": "stream",
     "text": [
      "keys: dict_keys(['name', 'age', 'cgpa'])\n",
      "------------------------------\n",
      "name\n",
      "age\n",
      "cgpa\n"
     ]
    }
   ],
   "source": [
    "#printing the keys present in the data\n",
    "def info(**kwargs):\n",
    "    print(\"keys:\",kwargs.keys())\n",
    "    print(\"------------------------------\")\n",
    "    for key in kwargs:\n",
    "        print(key)\n",
    "info(name='sunny',age=20,cgpa=8.3)        \n",
    "\n"
   ]
  },
  {
   "cell_type": "code",
   "execution_count": 21,
   "id": "f1868283-26aa-47c8-b82a-132722e56873",
   "metadata": {},
   "outputs": [
    {
     "name": "stdout",
     "output_type": "stream",
     "text": [
      "values: dict_values(['sunny', 20, 8.3])\n",
      "------------------------------\n",
      "('name', 'sunny')\n",
      "('age', 20)\n",
      "('cgpa', 8.3)\n"
     ]
    }
   ],
   "source": [
    "#printing the values present in the data\n",
    "def info(**kwargs):\n",
    "    print(\"values:\",kwargs.values())\n",
    "    print(\"------------------------------\")\n",
    "    for value in kwargs.items():\n",
    "        print(value)\n",
    "info(name='sunny',age=20,cgpa=8.3)        \n"
   ]
  },
  {
   "cell_type": "code",
   "execution_count": null,
   "id": "7baa56c1-fcd7-4132-b605-c5521e548a96",
   "metadata": {},
   "outputs": [],
   "source": []
  }
 ],
 "metadata": {
  "kernelspec": {
   "display_name": "Python 3 (ipykernel)",
   "language": "python",
   "name": "python3"
  },
  "language_info": {
   "codemirror_mode": {
    "name": "ipython",
    "version": 3
   },
   "file_extension": ".py",
   "mimetype": "text/x-python",
   "name": "python",
   "nbconvert_exporter": "python",
   "pygments_lexer": "ipython3",
   "version": "3.12.7"
  }
 },
 "nbformat": 4,
 "nbformat_minor": 5
}
