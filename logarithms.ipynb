{
 "cells": [
  {
   "cell_type": "code",
   "execution_count": 3,
   "id": "c1bbb588-fdd9-4261-b05f-6d4d298e74c6",
   "metadata": {},
   "outputs": [
    {
     "name": "stdout",
     "output_type": "stream",
     "text": [
      "natural log: 1.0\n",
      "log base 10 of 100: 2.0\n",
      "e to the power 2: 7.38905609893065\n"
     ]
    }
   ],
   "source": [
    "from math import log,log10,exp,e\n",
    "print(\"natural log:\",log(e))\n",
    "print(\"log base 10 of 100:\",log10(100))\n",
    "print(\"e to the power 2:\",exp(2))"
   ]
  },
  {
   "cell_type": "code",
   "execution_count": null,
   "id": "9447804b-bdc9-4e14-9438-2d957cdbc337",
   "metadata": {},
   "outputs": [],
   "source": []
  }
 ],
 "metadata": {
  "kernelspec": {
   "display_name": "Python 3 (ipykernel)",
   "language": "python",
   "name": "python3"
  },
  "language_info": {
   "codemirror_mode": {
    "name": "ipython",
    "version": 3
   },
   "file_extension": ".py",
   "mimetype": "text/x-python",
   "name": "python",
   "nbconvert_exporter": "python",
   "pygments_lexer": "ipython3",
   "version": "3.12.7"
  }
 },
 "nbformat": 4,
 "nbformat_minor": 5
}
