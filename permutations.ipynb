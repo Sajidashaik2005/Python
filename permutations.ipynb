{
 "cells": [
  {
   "cell_type": "code",
   "execution_count": 5,
   "id": "b8dc426b-ca8a-4358-aff4-8e7add96c43f",
   "metadata": {},
   "outputs": [
    {
     "name": "stdin",
     "output_type": "stream",
     "text": [
      "Enter a name or a word: abc\n"
     ]
    },
    {
     "name": "stdout",
     "output_type": "stream",
     "text": [
      "possibilities of combinations....\n",
      "abc\n",
      "acb\n",
      "bac\n",
      "bca\n",
      "cab\n",
      "cba\n"
     ]
    }
   ],
   "source": [
    "''' permutations of char in tree recursion'''\n",
    "def permute(s,bucket=''):\n",
    "    if not s:\n",
    "        print(bucket)\n",
    "        return \n",
    "    for i in range(len(s)):\n",
    "        ns=s[:i]+s[i+1:]\n",
    "        permute(ns,bucket+s[i])\n",
    "text=input(\"Enter a name or a word:\")\n",
    "print(\"possibilities of combinations....\")\n",
    "permute(text)"
   ]
  },
  {
   "cell_type": "code",
   "execution_count": null,
   "id": "28dc0c71-3d6c-4fa3-b1a0-9bbb4bc169af",
   "metadata": {},
   "outputs": [],
   "source": []
  }
 ],
 "metadata": {
  "kernelspec": {
   "display_name": "Python 3 (ipykernel)",
   "language": "python",
   "name": "python3"
  },
  "language_info": {
   "codemirror_mode": {
    "name": "ipython",
    "version": 3
   },
   "file_extension": ".py",
   "mimetype": "text/x-python",
   "name": "python",
   "nbconvert_exporter": "python",
   "pygments_lexer": "ipython3",
   "version": "3.12.7"
  }
 },
 "nbformat": 4,
 "nbformat_minor": 5
}
