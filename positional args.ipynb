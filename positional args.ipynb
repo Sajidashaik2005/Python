{
 "cells": [
  {
   "cell_type": "code",
   "execution_count": 1,
   "id": "d77115fb-a8cd-48dd-a430-57b82e42f656",
   "metadata": {},
   "outputs": [
    {
     "name": "stdout",
     "output_type": "stream",
     "text": [
      "5\n",
      "55\n"
     ]
    }
   ],
   "source": [
    "#positional args\n",
    "def sumnum(*args):\n",
    "    print(args[4])\n",
    "    return sum(args)\n",
    "print(sumnum(1,2,3,4,5,6,7,8,9,10))    \n",
    "    "
   ]
  },
  {
   "cell_type": "code",
   "execution_count": 13,
   "id": "f22979f4-b5a8-4639-8d67-07534e2dccbf",
   "metadata": {},
   "outputs": [
    {
     "name": "stdout",
     "output_type": "stream",
     "text": [
      "10\n"
     ]
    }
   ],
   "source": [
    "#max of args\n",
    "def num(*args):\n",
    "    return max(args)\n",
    "print(num(1,2,3,4,5,6,7,8,9,10))    \n",
    "    "
   ]
  },
  {
   "cell_type": "code",
   "execution_count": 15,
   "id": "d0739052-573e-4efb-ac39-30712fc2a3cb",
   "metadata": {},
   "outputs": [
    {
     "name": "stdout",
     "output_type": "stream",
     "text": [
      "1\n"
     ]
    }
   ],
   "source": [
    "#min of args\n",
    "def num(*args):\n",
    "    return min(args)\n",
    "print(num(1,2,3,4,5,6,7,8,9,10))    \n",
    "    "
   ]
  },
  {
   "cell_type": "code",
   "execution_count": null,
   "id": "cec9d348-2f98-41f8-a145-bfbd8ee85053",
   "metadata": {},
   "outputs": [],
   "source": [
    "def sumnum(*args):\n",
    "    print(args[4])\n",
    "    return sorted(args)\n",
    "print(sumnum(1,2,3,))    \n",
    "    "
   ]
  }
 ],
 "metadata": {
  "kernelspec": {
   "display_name": "Python 3 (ipykernel)",
   "language": "python",
   "name": "python3"
  },
  "language_info": {
   "codemirror_mode": {
    "name": "ipython",
    "version": 3
   },
   "file_extension": ".py",
   "mimetype": "text/x-python",
   "name": "python",
   "nbconvert_exporter": "python",
   "pygments_lexer": "ipython3",
   "version": "3.12.7"
  }
 },
 "nbformat": 4,
 "nbformat_minor": 5
}
