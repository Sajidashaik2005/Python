{
 "cells": [
  {
   "cell_type": "code",
   "execution_count": 1,
   "id": "20059fdd-8dfe-44ec-a434-3de834047e01",
   "metadata": {},
   "outputs": [
    {
     "name": "stdout",
     "output_type": "stream",
     "text": [
      "before swapping: 1 2\n",
      "after swapping: 2 1\n"
     ]
    }
   ],
   "source": [
    "#Tupple swapping\n",
    "a=1\n",
    "b=2\n",
    "print(\"before swapping:\",a,b)\n",
    "a,b=b,a\n",
    "print(\"after swapping:\",a,b)"
   ]
  },
  {
   "cell_type": "code",
   "execution_count": 3,
   "id": "319f2198-a793-4e9f-82f8-eca1d2b8702f",
   "metadata": {},
   "outputs": [
    {
     "name": "stdin",
     "output_type": "stream",
     "text": [
      "enter the value of a: 2\n",
      "enter the value of b: 4\n"
     ]
    },
    {
     "name": "stdout",
     "output_type": "stream",
     "text": [
      "before swapping: 2 4\n",
      "after swapping: 4 2\n"
     ]
    }
   ],
   "source": [
    "#universal swapping or using temporary variable for swapping\n",
    "a=int(input(\"enter the value of a:\"))\n",
    "b=int(input(\"enter the value of b:\"))\n",
    "print(\"before swapping:\",a,b)\n",
    "temp=a\n",
    "a=b\n",
    "b=temp\n",
    "print(\"after swapping:\",a,b)\n",
    "\n"
   ]
  },
  {
   "cell_type": "code",
   "execution_count": 5,
   "id": "d0a9d9df-521b-451d-bb71-94a61b853998",
   "metadata": {},
   "outputs": [
    {
     "name": "stdin",
     "output_type": "stream",
     "text": [
      "enter the value of a: 3\n",
      "enter the value of b: 4\n"
     ]
    },
    {
     "name": "stdout",
     "output_type": "stream",
     "text": [
      "before swapping: 3 4\n",
      "after swapping: 4 3\n"
     ]
    }
   ],
   "source": [
    "#swapping using (+) and (-) operator\n",
    "a=int(input(\"enter the value of a:\"))\n",
    "b=int(input(\"enter the value of b:\"))\n",
    "print(\"before swapping:\",a,b)\n",
    "a=a+b\n",
    "b=a-b\n",
    "a=a-b\n",
    "print(\"after swapping:\",a,b)\n"
   ]
  },
  {
   "cell_type": "code",
   "execution_count": 7,
   "id": "07f26b49-4351-426c-a165-417c8c3392ed",
   "metadata": {},
   "outputs": [
    {
     "name": "stdin",
     "output_type": "stream",
     "text": [
      "enter the value of a: 2 \n",
      "enter the value of b: 3\n"
     ]
    },
    {
     "name": "stdout",
     "output_type": "stream",
     "text": [
      "before swapping: 2 3\n",
      "after swapping: 3.0 2.0\n"
     ]
    }
   ],
   "source": [
    "#swapping using (*) and (/) operators\n",
    "a=int(input(\"enter the value of a:\"))\n",
    "b=int(input(\"enter the value of b:\"))\n",
    "print(\"before swapping:\",a,b)\n",
    "a=a*b\n",
    "b=a/b\n",
    "a=a/b\n",
    "print(\"after swapping:\",a,b)\n",
    "\n",
    "\n"
   ]
  },
  {
   "cell_type": "code",
   "execution_count": 11,
   "id": "fb90b0c5-a11e-4fe8-8386-54f70fff5997",
   "metadata": {},
   "outputs": [
    {
     "name": "stdin",
     "output_type": "stream",
     "text": [
      "enter the value of a: 4\n",
      "enter the value of b: 5\n"
     ]
    },
    {
     "name": "stdout",
     "output_type": "stream",
     "text": [
      "before swapping: 4 5\n",
      "after swapping: 5 4\n"
     ]
    }
   ],
   "source": [
    "#swapping using XOR\n",
    "a=int(input(\"enter the value of a:\"))\n",
    "b=int(input(\"enter the value of b:\"))\n",
    "print(\"before swapping:\",a,b)\n",
    "a=a^b\n",
    "b=a^b\n",
    "a=a^b\n",
    "print(\"after swapping:\",a,b)\n",
    "\n"
   ]
  },
  {
   "cell_type": "code",
   "execution_count": null,
   "id": "1a09c228-aa4c-4301-b45a-772301d54d66",
   "metadata": {},
   "outputs": [],
   "source": []
  }
 ],
 "metadata": {
  "kernelspec": {
   "display_name": "Python 3 (ipykernel)",
   "language": "python",
   "name": "python3"
  },
  "language_info": {
   "codemirror_mode": {
    "name": "ipython",
    "version": 3
   },
   "file_extension": ".py",
   "mimetype": "text/x-python",
   "name": "python",
   "nbconvert_exporter": "python",
   "pygments_lexer": "ipython3",
   "version": "3.12.7"
  }
 },
 "nbformat": 4,
 "nbformat_minor": 5
}
